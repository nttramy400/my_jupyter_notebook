{
 "cells": [
  {
   "cell_type": "markdown",
   "metadata": {},
   "source": [
    "# Normalization"
   ]
  },
  {
   "cell_type": "code",
   "execution_count": 1,
   "metadata": {},
   "outputs": [
    {
     "data": {
      "text/plain": [
       "array([[13],\n",
       "       [15],\n",
       "       [16],\n",
       "       [16],\n",
       "       [19],\n",
       "       [20],\n",
       "       [20],\n",
       "       [21],\n",
       "       [22],\n",
       "       [22],\n",
       "       [25],\n",
       "       [25],\n",
       "       [25],\n",
       "       [25],\n",
       "       [30],\n",
       "       [33],\n",
       "       [33],\n",
       "       [35],\n",
       "       [35],\n",
       "       [35],\n",
       "       [35],\n",
       "       [36],\n",
       "       [40],\n",
       "       [45],\n",
       "       [46],\n",
       "       [52],\n",
       "       [70]])"
      ]
     },
     "execution_count": 1,
     "metadata": {},
     "output_type": "execute_result"
    }
   ],
   "source": [
    "#array\n",
    "import numpy as np\n",
    "x = [13, 15, 16, 16, 19, 20, 20, 21, 22, 22, 25, 25, 25, 25, 30, 33, 33, 35, 35, 35, 35, 36, 40, 45, 46, 52, 70]\n",
    "x = np.array(x)\n",
    "# reshape to prepare for scale\n",
    "x = np.reshape(x,(-1,1))\n",
    "x"
   ]
  },
  {
   "cell_type": "markdown",
   "metadata": {},
   "source": [
    "### Min-max normalization\n",
    "z_i  =  (x_i-min⁡(x))/(max⁡(x)-min⁡(x) )"
   ]
  },
  {
   "cell_type": "code",
   "execution_count": 2,
   "metadata": {},
   "outputs": [
    {
     "name": "stderr",
     "output_type": "stream",
     "text": [
      "c:\\python34\\lib\\site-packages\\sklearn\\utils\\validation.py:475: DataConversionWarning: Data with input dtype int32 was converted to float64 by MinMaxScaler.\n",
      "  warnings.warn(msg, DataConversionWarning)\n"
     ]
    },
    {
     "data": {
      "text/plain": [
       "array([[0.        ],\n",
       "       [0.03508772],\n",
       "       [0.05263158],\n",
       "       [0.05263158],\n",
       "       [0.10526316],\n",
       "       [0.12280702],\n",
       "       [0.12280702],\n",
       "       [0.14035088],\n",
       "       [0.15789474],\n",
       "       [0.15789474],\n",
       "       [0.21052632],\n",
       "       [0.21052632],\n",
       "       [0.21052632],\n",
       "       [0.21052632],\n",
       "       [0.29824561],\n",
       "       [0.35087719],\n",
       "       [0.35087719],\n",
       "       [0.38596491],\n",
       "       [0.38596491],\n",
       "       [0.38596491],\n",
       "       [0.38596491],\n",
       "       [0.40350877],\n",
       "       [0.47368421],\n",
       "       [0.56140351],\n",
       "       [0.57894737],\n",
       "       [0.68421053],\n",
       "       [1.        ]])"
      ]
     },
     "execution_count": 2,
     "metadata": {},
     "output_type": "execute_result"
    }
   ],
   "source": [
    "from sklearn.preprocessing import MinMaxScaler\n",
    "minMaxScaler = MinMaxScaler(feature_range=(0,1))\n",
    "minMaxScaler.fit(x)\n",
    "minMaxScaler.transform(x)"
   ]
  },
  {
   "cell_type": "markdown",
   "metadata": {},
   "source": [
    "### Z-score normalization\n",
    "z_i  =  (x_i- mean)/std"
   ]
  },
  {
   "cell_type": "code",
   "execution_count": 3,
   "metadata": {},
   "outputs": [
    {
     "name": "stdout",
     "output_type": "stream",
     "text": [
      "[[-1.33564599e+00]\n",
      " [-1.17816807e+00]\n",
      " [-1.09942912e+00]\n",
      " [-1.09942912e+00]\n",
      " [-8.63212252e-01]\n",
      " [-7.84473297e-01]\n",
      " [-7.84473297e-01]\n",
      " [-7.05734341e-01]\n",
      " [-6.26995386e-01]\n",
      " [-6.26995386e-01]\n",
      " [-3.90778520e-01]\n",
      " [-3.90778520e-01]\n",
      " [-3.90778520e-01]\n",
      " [-3.90778520e-01]\n",
      " [ 2.91625761e-03]\n",
      " [ 2.39133124e-01]\n",
      " [ 2.39133124e-01]\n",
      " [ 3.96611035e-01]\n",
      " [ 3.96611035e-01]\n",
      " [ 3.96611035e-01]\n",
      " [ 3.96611035e-01]\n",
      " [ 4.75349990e-01]\n",
      " [ 7.90305812e-01]\n",
      " [ 1.18400059e+00]\n",
      " [ 1.26273954e+00]\n",
      " [ 1.73517328e+00]\n",
      " [ 3.15247448e+00]]\n",
      "1.0\n"
     ]
    },
    {
     "name": "stderr",
     "output_type": "stream",
     "text": [
      "c:\\python34\\lib\\site-packages\\sklearn\\utils\\validation.py:475: DataConversionWarning: Data with input dtype int32 was converted to float64 by StandardScaler.\n",
      "  warnings.warn(msg, DataConversionWarning)\n"
     ]
    },
    {
     "data": {
      "text/plain": [
       "12.700193878606099"
      ]
     },
     "execution_count": 3,
     "metadata": {},
     "output_type": "execute_result"
    }
   ],
   "source": [
    "from sklearn.preprocessing import StandardScaler\n",
    "meanX = np.mean(x)\n",
    "stdX = np.std(x)\n",
    "ZscoreScaler = StandardScaler()\n",
    "ZscoreScaler.fit(x)\n",
    "print (ZscoreScaler.transform(x))\n",
    "print (np.std(ZscoreScaler.transform(x)))\n",
    "stdX"
   ]
  },
  {
   "cell_type": "code",
   "execution_count": null,
   "metadata": {
    "collapsed": true
   },
   "outputs": [],
   "source": []
  }
 ],
 "metadata": {
  "kernelspec": {
   "display_name": "Python 3",
   "language": "python",
   "name": "python3"
  },
  "language_info": {
   "codemirror_mode": {
    "name": "ipython",
    "version": 3
   },
   "file_extension": ".py",
   "mimetype": "text/x-python",
   "name": "python",
   "nbconvert_exporter": "python",
   "pygments_lexer": "ipython3",
   "version": "3.4.3"
  }
 },
 "nbformat": 4,
 "nbformat_minor": 2
}
