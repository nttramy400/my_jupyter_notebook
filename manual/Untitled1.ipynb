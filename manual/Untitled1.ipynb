{
 "cells": [
  {
   "cell_type": "code",
   "execution_count": 5,
   "metadata": {},
   "outputs": [
    {
     "name": "stdout",
     "output_type": "stream",
     "text": [
      "['moth', 'otha', 'thai', 'haib', 'aiba', 'ibab', 'babo', 'abon', 'bont', 'onth', 'ntha', 'thai']\n",
      "('m', 'o', 't')\n",
      "('o', 't', 'h')\n",
      "('t', 'h', 'a')\n",
      "('h', 'a', 'i')\n",
      "('a', 'i', 'b')\n",
      "('i', 'b', 'a')\n",
      "('b', 'a', 'b')\n",
      "('a', 'b', 'o')\n",
      "('b', 'o', 'n')\n",
      "('o', 'n', 't')\n",
      "('n', 't', 'h')\n",
      "('t', 'h', 'a')\n",
      "('h', 'a', 'i')\n"
     ]
    }
   ],
   "source": [
    "import nltk\n",
    "from nltk.util import ngrams\n",
    "\n",
    "def word_grams(words, min=4, max=5):\n",
    "    s=[]\n",
    "    for n in range(min,max):\n",
    "        for ngram in ngrams(words,n):\n",
    "            s.append(''.join(str(i) for i in ngram))\n",
    "    return s\n",
    "\n",
    "#print word_grams('mot hai ba bon'.split(' '))\n",
    "print (word_grams('mothaibabonthai'))\n",
    "\n",
    "for ngram in ngrams('mothaibabonthai',3):\n",
    "    print (ngram)"
   ]
  },
  {
   "cell_type": "code",
   "execution_count": 3,
   "metadata": {},
   "outputs": [
    {
     "name": "stdout",
     "output_type": "stream",
     "text": [
      "('this', 'is', 'a', 'foo', 'bar', 'sentences')\n",
      "('is', 'a', 'foo', 'bar', 'sentences', 'and')\n",
      "('a', 'foo', 'bar', 'sentences', 'and', 'i')\n",
      "('foo', 'bar', 'sentences', 'and', 'i', 'want')\n",
      "('bar', 'sentences', 'and', 'i', 'want', 'to')\n",
      "('sentences', 'and', 'i', 'want', 'to', 'ngramize')\n",
      "('and', 'i', 'want', 'to', 'ngramize', 'it')\n"
     ]
    }
   ],
   "source": [
    "from nltk import ngrams\n",
    "sentence = 'this is a foo bar sentences and i want to ngramize it'\n",
    "n = 6\n",
    "sixgrams = ngrams(sentence.split(), n)\n",
    "for grams in sixgrams:\n",
    "  print (grams)"
   ]
  },
  {
   "cell_type": "code",
   "execution_count": null,
   "metadata": {},
   "outputs": [],
   "source": []
  }
 ],
 "metadata": {
  "kernelspec": {
   "display_name": "Python 3",
   "language": "python",
   "name": "python3"
  },
  "language_info": {
   "codemirror_mode": {
    "name": "ipython",
    "version": 3
   },
   "file_extension": ".py",
   "mimetype": "text/x-python",
   "name": "python",
   "nbconvert_exporter": "python",
   "pygments_lexer": "ipython3",
   "version": "3.4.3"
  }
 },
 "nbformat": 4,
 "nbformat_minor": 2
}
