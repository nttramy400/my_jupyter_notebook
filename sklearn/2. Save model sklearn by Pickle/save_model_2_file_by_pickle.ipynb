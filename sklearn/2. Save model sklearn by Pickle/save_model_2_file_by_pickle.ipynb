{
 "cells": [
  {
   "cell_type": "markdown",
   "metadata": {},
   "source": [
    "### Save model to file by Pickle\n",
    "\n",
    "Có thể dùng thư viện __pickle__ được dựng sẵn trong Python để lưu model trong scikit vào file"
   ]
  },
  {
   "cell_type": "code",
   "execution_count": 8,
   "metadata": {},
   "outputs": [
    {
     "name": "stdout",
     "output_type": "stream",
     "text": [
      "SVC(C=1.0, cache_size=200, class_weight=None, coef0=0.0,\n",
      "  decision_function_shape='ovr', degree=3, gamma='auto', kernel='rbf',\n",
      "  max_iter=-1, probability=False, random_state=None, shrinking=True,\n",
      "  tol=0.001, verbose=False)\n",
      "-----------------------------\n",
      "SVC(C=1.0, cache_size=200, class_weight=None, coef0=0.0,\n",
      "  decision_function_shape='ovr', degree=3, gamma='auto', kernel='rbf',\n",
      "  max_iter=-1, probability=False, random_state=None, shrinking=True,\n",
      "  tol=0.001, verbose=False)\n"
     ]
    }
   ],
   "source": [
    "from sklearn import svm\n",
    "from sklearn import datasets\n",
    "clf = svm.SVC()\n",
    "\n",
    "#load example dataset iris\n",
    "X,y = datasets.load_iris(return_X_y=True)\n",
    "\n",
    "#Train model\n",
    "clf.fit(X,y)\n",
    "\n",
    "#Save model\n",
    "import pickle\n",
    "s = pickle.dumps(clf)\n",
    "clf2 = pickle.loads(s)\n",
    "\n",
    "print (clf)\n",
    "print (\"-----------------------------\")\n",
    "print (clf2)\n"
   ]
  },
  {
   "cell_type": "markdown",
   "metadata": {},
   "source": [
    "Có thể dùng thư viện joblib thay thế cho pickle(joblib.dump & joblib.load) (which is more efficient on objects that carry _large numpy arrays_ internally as is often the case for fitted scikit-learn estimators, but can only pickle to the disk and not to a string:)"
   ]
  },
  {
   "cell_type": "code",
   "execution_count": 11,
   "metadata": {},
   "outputs": [
    {
     "name": "stdout",
     "output_type": "stream",
     "text": [
      "SVC(C=1.0, cache_size=200, class_weight=None, coef0=0.0,\n",
      "  decision_function_shape='ovr', degree=3, gamma='auto', kernel='rbf',\n",
      "  max_iter=-1, probability=False, random_state=None, shrinking=True,\n",
      "  tol=0.001, verbose=False)\n"
     ]
    }
   ],
   "source": [
    "from sklearn.externals import joblib\n",
    "joblib.dump(clf, \"filename.pkl\")\n",
    "\n",
    "clf3 = joblib.load(\"filename.pkl\")\n",
    "print (clf3)"
   ]
  },
  {
   "cell_type": "markdown",
   "metadata": {},
   "source": [
    "## Những giới hạn về mặt bảo mật và bảo trì\n",
    "pickle (and joblib by extension) có một số vấn đề liên quan đến vấn đề bảo mật và bảo trì. Vì vậy:\n",
    "- Không bao giờ unpickle dữ liệu không đáng tin cậy, nó có thể dẫn đến mã độc được thực thi khi tải. (vde bảo mật)\n",
    "- Mặc dù các model được lưu bằng phiên bản scikit-learn có thể tải trong các phiên bản scikit-learn khác nhưng điều này hoàn toàn không được hỗ trợ. Vị vậy nên lưu ý rằng các hoạt động được thực hiện trên dữ liệu đó có thể mang lại kết quả khác mong đợi. (vde bảo trì)\n",
    "    - Vì vậy để có thể rebuild model với future versions của sklearn, nên save additional metadata sau cùng với pickled model:\n",
    "        - The training data, e.g. a reference to a immutable snapshot\n",
    "        - The python source code used to generate the model (src code python đã dùng để generate model)\n",
    "        - The versions of scikit-learn and its dependencies\n",
    "        - The cross validation score obtained on the training data (This should make it possible to check that the cross-validation score is in the same range as before.)\n",
    "        - __Tuy nhiên, do bên trong model có thể khác nhau trên hai kiến trúc khác nhau, việc dumping một mô hình trên một kiến trúc và load nó lên một kiến trúc khác không được hỗ trợ.__"
   ]
  },
  {
   "cell_type": "markdown",
   "metadata": {},
   "source": [
    "If you want to know more about these issues and explore other possible serialization methods, please refer to th\n",
    "is [talk by Alex Gaynor](http://pyvideo.org/pycon-us-2014/pickles-are-for-delis-not-software.html)."
   ]
  },
  {
   "cell_type": "code",
   "execution_count": null,
   "metadata": {},
   "outputs": [],
   "source": []
  }
 ],
 "metadata": {
  "kernelspec": {
   "display_name": "Python 3",
   "language": "python",
   "name": "python3"
  },
  "language_info": {
   "codemirror_mode": {
    "name": "ipython",
    "version": 3
   },
   "file_extension": ".py",
   "mimetype": "text/x-python",
   "name": "python",
   "nbconvert_exporter": "python",
   "pygments_lexer": "ipython3",
   "version": "3.4.3"
  }
 },
 "nbformat": 4,
 "nbformat_minor": 2
}
