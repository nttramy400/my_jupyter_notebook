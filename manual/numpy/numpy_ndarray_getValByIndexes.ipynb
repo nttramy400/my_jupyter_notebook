{
 "cells": [
  {
   "attachments": {
    "image.png": {
     "image/png": "[encoded data removed]"
    }
   },
   "cell_type": "markdown",
   "metadata": {},
   "source": [
    "<h1 style=\"color:red;\">Lấy phần tử theo index trong numpy array </h1>\n",
    "<h2>Lấy phần tử theo index trong numpy array _(với mảng 1 chiều)_\n",
    "Lấy theo cú pháp __numpy_array[*list_indexes*]__</h2>\n",
    "\n",
    "![image.png](attachment:image.png)\n"
   ]
  },
  {
   "cell_type": "code",
   "execution_count": 43,
   "metadata": {},
   "outputs": [
    {
     "data": {
      "text/plain": [
       "array(['zero', 'one', 'four'], dtype='<U5')"
      ]
     },
     "execution_count": 43,
     "metadata": {},
     "output_type": "execute_result"
    }
   ],
   "source": [
    "import numpy as np\n",
    "numpy_array = np.array(['zero', 'one', 'two', 'three','four', 'five']) \n",
    "list_indexes = [0,3,5] #index của các phần tử muốn lấy trong mảng\n",
    "\n",
    "#lấy các phần tử trong mảng theo index\n",
    "numpy_array[list_indexes]\n"
   ]
  },
  {
   "cell_type": "markdown",
   "metadata": {},
   "source": [
    "### Áp dụng 1. để lấy phần tử tại một index cụ thể nhiều lần\n",
    "Vẫn lấy theo cú pháp __numpy_array[*list_indexes*]__ (arrays used as indices must be of integer (or boolean) type)<br> \n",
    "Xem 2 ví dụ bên dưới<br>\n",
    "- *Ví dụ 1:* mảng đơn giản trên numpy<br>\n",
    "- *Ví dụ 2:* trong sklearn (chuyển array target chứa label số thành  array target chứa các label name, có thể dùng array target chứa các label name vào hàm _fit()_) <br>\n"
   ]
  },
  {
   "cell_type": "code",
   "execution_count": 44,
   "metadata": {},
   "outputs": [
    {
     "data": {
      "text/plain": [
       "array(['zero', 'zero', 'one', 'one', 'one', 'two'], dtype='<U4')"
      ]
     },
     "execution_count": 44,
     "metadata": {},
     "output_type": "execute_result"
    }
   ],
   "source": [
    "import numpy as np\n",
    "numpy_array = np.array(['zero', 'one', 'two'])\n",
    "list_indexes = [0,0,1,1,1,2] #index của các phần tử muốn lấy trong mảng\n",
    "\n",
    "#lấy các phần tử trong mảng theo index\n",
    "numpy_array[list_indexes]"
   ]
  },
  {
   "cell_type": "code",
   "execution_count": 48,
   "metadata": {},
   "outputs": [
    {
     "name": "stdout",
     "output_type": "stream",
     "text": [
      "target_names: \n",
      "['setosa' 'versicolor' 'virginica']\n",
      "\n",
      "target của 3 data point đầu tiên: \n",
      "[0 0 0]\n",
      "\n",
      "match của 3 data point đầu tiên với label name của nó: \n",
      "['setosa' 'setosa' 'setosa']\n"
     ]
    }
   ],
   "source": [
    "from sklearn import datasets\n",
    "iris = datasets.load_iris()\n",
    "print (\"target_names: \")\n",
    "print(iris.target_names)\n",
    "print (\"\\ntarget của 3 data point đầu tiên: \")\n",
    "print(iris.target[:3])\n",
    "print (\"\\nmatch của 3 data point đầu tiên với label name của nó: \")\n",
    "print(iris.target_names[iris.target[:3]])\n",
    "\n"
   ]
  },
  {
   "cell_type": "code",
   "execution_count": null,
   "metadata": {},
   "outputs": [],
   "source": []
  },
  {
   "cell_type": "markdown",
   "metadata": {},
   "source": [
    "## Lấy dòng hay cột theo index trong numpy array _(với mảng 2 chiều)_\n",
    "Ví dụ ndarray có shape là (n_rows, m_colums)\n",
    "- Lấy theo dòng: numpy_ndarray**[list_rows_indexes]**\n",
    "- Lấy theo cột: numpy_ndarray**[ : , list_cols_indexes ]**"
   ]
  },
  {
   "cell_type": "code",
   "execution_count": 50,
   "metadata": {},
   "outputs": [
    {
     "name": "stdout",
     "output_type": "stream",
     "text": [
      "[[1 2 3]\n",
      " [7 8 9]]\n",
      "**********\n",
      "[[1 3]\n",
      " [4 6]\n",
      " [7 9]]\n"
     ]
    }
   ],
   "source": [
    "ndarray = np.array([[1,2,3],\n",
    "                    [4,5,6],\n",
    "                    [7,8,9]])\n",
    "print (ndarray[[0,2]]) #lay dong 0 va dong 2\n",
    "print (\"**********\")\n",
    "print (ndarray[:,[0,2]]) #lay cot 0 va 2\n"
   ]
  }
 ],
 "metadata": {
  "kernelspec": {
   "display_name": "Python 3",
   "language": "python",
   "name": "python3"
  },
  "language_info": {
   "codemirror_mode": {
    "name": "ipython",
    "version": 3
   },
   "file_extension": ".py",
   "mimetype": "text/x-python",
   "name": "python",
   "nbconvert_exporter": "python",
   "pygments_lexer": "ipython3",
   "version": "3.4.3"
  },
  "toc": {
   "base_numbering": 1,
   "nav_menu": {},
   "number_sections": true,
   "sideBar": true,
   "skip_h1_title": false,
   "title_cell": "Table of Contents",
   "title_sidebar": "Contents",
   "toc_cell": false,
   "toc_position": {},
   "toc_section_display": true,
   "toc_window_display": false
  }
 },
 "nbformat": 4,
 "nbformat_minor": 2
}
