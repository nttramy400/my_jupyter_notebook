{
 "cells": [
  {
   "cell_type": "markdown",
   "metadata": {},
   "source": [
    "<h1 style=\"color:red\"> Type Casting </h1> \n",
    "(link tiếng anh: http://scikit-learn.org/stable/tutorial/basic/tutorial.html#type-casting) <br><br>\n",
    "Trừ khi có chỉ định khác, __input__ sẽ được cast kiếu __float64__<br>\n",
    "__Regression targets__ sẽ được cast __float64__, trong khi __classification targets__ sẽ được __giữ nguyên kiểu__ (int, string,...)<br>\n",
    "_Ví dụ 1:_ Trong ví dụ dưới đây input X sẽ cast từ kiểu float32 sang float 64 qua method fit_transform(X)\n"
   ]
  },
  {
   "cell_type": "code",
   "execution_count": 3,
   "metadata": {},
   "outputs": [
    {
     "name": "stdout",
     "output_type": "stream",
     "text": [
      "float32\n",
      "float64\n"
     ]
    }
   ],
   "source": [
    "import numpy as np\n",
    "from sklearn import random_projection\n",
    "\n",
    "rng = np.random.RandomState(0)\n",
    "X = rng.rand(10,2000)\n",
    "X = np. array(X, dtype='float32')\n",
    "print(X.dtype) #'float32'\n",
    "\n",
    "transformer = random_projection.GaussianRandomProjection()\n",
    "X_new = transformer.fit_transform(X)\n",
    "print (X_new.dtype) #'float64'"
   ]
  },
  {
   "cell_type": "markdown",
   "metadata": {},
   "source": [
    "<hr>\n",
    "_Ví dụ 2:_ Trong ví dụ dưới đây hàm __predict()__ của classification model sẽ trả về giá trị nguyên mẫu mà không cast float64"
   ]
  },
  {
   "cell_type": "code",
   "execution_count": 19,
   "metadata": {},
   "outputs": [
    {
     "name": "stdout",
     "output_type": "stream",
     "text": [
      "[0, 0, 0]\n",
      "['setosa', 'setosa', 'setosa']\n"
     ]
    }
   ],
   "source": [
    "from sklearn import datasets\n",
    "from sklearn.svm import SVC\n",
    "\n",
    "iris = datasets.load_iris()\n",
    "clf = SVC()\n",
    "clf.fit(iris.data, iris.target)\n",
    "print(list(clf.predict(iris.data[:3]))) # giữ nguyên kiểu int\n",
    "\n",
    "clf.fit(iris.data, iris.target_names[iris.target])\n",
    "print(list(clf.predict(iris.data[:3]))) #giữ nguyên kiểu string\n"
   ]
  }
 ],
 "metadata": {
  "kernelspec": {
   "display_name": "Python 3",
   "language": "python",
   "name": "python3"
  },
  "language_info": {
   "codemirror_mode": {
    "name": "ipython",
    "version": 3
   },
   "file_extension": ".py",
   "mimetype": "text/x-python",
   "name": "python",
   "nbconvert_exporter": "python",
   "pygments_lexer": "ipython3",
   "version": "3.4.3"
  },
  "toc": {
   "base_numbering": 1,
   "nav_menu": {},
   "number_sections": true,
   "sideBar": true,
   "skip_h1_title": false,
   "title_cell": "Table of Contents",
   "title_sidebar": "Contents",
   "toc_cell": false,
   "toc_position": {},
   "toc_section_display": true,
   "toc_window_display": false
  }
 },
 "nbformat": 4,
 "nbformat_minor": 2
}
