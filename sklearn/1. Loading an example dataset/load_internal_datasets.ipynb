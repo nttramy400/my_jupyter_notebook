{
 "cells": [
  {
   "cell_type": "markdown",
   "metadata": {},
   "source": [
    "<h1 style=\"color:red;\">Loading an internal dataset</h1>\n",
    "\n",
    "Trong sklearn.datasets package có cung cấp một vài small toy datasets\n",
    "\n",
    "Vd: \n",
    "- cho classification: [iris](https://en.wikipedia.org/wiki/Iris_flower_data_set) and [digits](http://archive.ics.uci.edu/ml/datasets/Pen-Based+Recognition+of+Handwritten+Digits) datasets\n",
    "- cho regression: boston house prices dataset\n",
    "\n",
    "![image.png](attachment:image.png)\n",
    "\n",
    "_Chú thích:_ load_*(__return_X_y__=False) nếu giá trị = __True__ thì return __(data, target)__ thay vì trả về Bunch object. Mặc định False"
   ]
  },
  {
   "cell_type": "code",
   "execution_count": 5,
   "metadata": {},
   "outputs": [],
   "source": [
    "from sklearn import datasets\n",
    "iris = datasets.load_iris() #load dataset iris\n",
    "digits = datasets.load_digits() #load dataset digits\n",
    "data, target = datasets.load_iris(return_X_y=True)\n",
    "#print (data, target)"
   ]
  },
  {
   "cell_type": "markdown",
   "metadata": {},
   "source": [
    "__Một dataset là một dictionary chứa data và metadata về dữ liệu__ (A dataset is a dictionary-like object that holds all the data and some metadata about the data)\n",
    "\n",
    "- __.data__: chứa data ( là n_samples, n_features array)\n",
    "\n",
    "- __.target__: ground truth của tập dữ liệu (label thực tế)\n",
    "\n",
    "- __.DESCR__: mô tả (description) của datasets"
   ]
  },
  {
   "cell_type": "code",
   "execution_count": 8,
   "metadata": {},
   "outputs": [
    {
     "name": "stdout",
     "output_type": "stream",
     "text": [
      "data: \n",
      "[[ 0.  0.  5. ...  0.  0.  0.]\n",
      " [ 0.  0.  0. ... 10.  0.  0.]\n",
      " [ 0.  0.  0. ... 16.  9.  0.]\n",
      " ...\n",
      " [ 0.  0.  1. ...  6.  0.  0.]\n",
      " [ 0.  0.  2. ... 12.  0.  0.]\n",
      " [ 0.  0. 10. ... 12.  1.  0.]]\n",
      "\n",
      "labels: \n",
      "[0 1 2 ... 8 9 8]\n",
      "[0 0 0 0 0 0 0 0 0 0 0 0 0 0 0 0 0 0 0 0 0 0 0 0 0 0 0 0 0 0 0 0 0 0 0 0 0\n",
      " 0 0 0 0 0 0 0 0 0 0 0 0 0 1 1 1 1 1 1 1 1 1 1 1 1 1 1 1 1 1 1 1 1 1 1 1 1\n",
      " 1 1 1 1 1 1 1 1 1 1 1 1 1 1 1 1 1 1 1 1 1 1 1 1 1 1 2 2 2 2 2 2 2 2 2 2 2\n",
      " 2 2 2 2 2 2 2 2 2 2 2 2 2 2 2 2 2 2 2 2 2 2 2 2 2 2 2 2 2 2 2 2 2 2 2 2 2\n",
      " 2 2]\n",
      "\n",
      "attributes: \n",
      "[0 1 2 3 4 5 6 7 8 9]\n",
      "['setosa' 'versicolor' 'virginica']\n"
     ]
    }
   ],
   "source": [
    "print (\"data: \")\n",
    "print (digits.data)\n",
    "print (\"\\nlabels: \")\n",
    "print (digits.target)#the number corresponding to each digit image that we are trying to learn\n",
    "print (iris.target)\n",
    "print (\"\\nattributes: \")\n",
    "print (digits.target_names)\n",
    "print (iris.target_names)\n",
    "# print (\"\\ndescription: \")\n",
    "# print (digits.DESCR)\n"
   ]
  },
  {
   "cell_type": "markdown",
   "metadata": {},
   "source": []
  }
 ],
 "metadata": {
  "gist": {
   "data": {
    "description": "sklearn/1. Loading an example dataset/load_internal_datasets.ipynb",
    "public": false
   },
   "id": ""
  },
  "kernelspec": {
   "display_name": "Python 3",
   "language": "python",
   "name": "python3"
  },
  "language_info": {
   "codemirror_mode": {
    "name": "ipython",
    "version": 3
   },
   "file_extension": ".py",
   "mimetype": "text/x-python",
   "name": "python",
   "nbconvert_exporter": "python",
   "pygments_lexer": "ipython3",
   "version": "3.4.3"
  },
  "toc": {
   "base_numbering": 1,
   "nav_menu": {},
   "number_sections": true,
   "sideBar": true,
   "skip_h1_title": false,
   "title_cell": "Table of Contents",
   "title_sidebar": "Contents",
   "toc_cell": false,
   "toc_position": {},
   "toc_section_display": true,
   "toc_window_display": false
  }
 },
 "nbformat": 4,
 "nbformat_minor": 2
}
