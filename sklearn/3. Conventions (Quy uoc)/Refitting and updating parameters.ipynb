{
 "cells": [
  {
   "cell_type": "markdown",
   "metadata": {},
   "source": [
    "<h1 style = \"color:red\"> Refitting and updating parameters </h1>\n",
    "(link tiếng anh: http://scikit-learn.org/stable/tutorial/basic/tutorial.html#refitting-and-updating-parameters) <br>\n",
    "\n",
    "Các tham số của một estimator có thể được cập nhật sau khi nó được xây dựng bằng cách sử dụng method **sklearn.pipeline.Pipeline.set_params**. <br><br>\n",
    "Gọi fit() nhiều hơn một lần sẽ **ghi đè (overwrite)** lên những gì đã được học được bởi fit() trước đó."
   ]
  },
  {
   "cell_type": "code",
   "execution_count": 10,
   "metadata": {},
   "outputs": [
    {
     "name": "stdout",
     "output_type": "stream",
     "text": [
      "[1 0 1 1 0]\n",
      "\n",
      "Ket qua predict sau khi goi lai fit():\n",
      "[0 0 0 1 0]\n"
     ]
    }
   ],
   "source": [
    "import numpy as np\n",
    "from sklearn.svm import SVC\n",
    "\n",
    "rng = np.random.RandomState(0)\n",
    "X = rng.rand(100,10)\n",
    "y = rng.binomial(1,0.5,100)\n",
    "\n",
    "X_test = rng.rand(5,10)\n",
    "clf = SVC()\n",
    "\n",
    "clf.set_params(kernel='linear').fit(X,y) #build model\n",
    "print(clf.predict(X_test))\n",
    "\n",
    "print (\"\\nKet qua predict sau khi goi lai fit():\")\n",
    "clf.set_params(kernel='rbf').fit(X, y) #overwrite\n",
    "print(clf.predict(X_test))"
   ]
  },
  {
   "cell_type": "code",
   "execution_count": null,
   "metadata": {},
   "outputs": [],
   "source": []
  }
 ],
 "metadata": {
  "kernelspec": {
   "display_name": "Python 3",
   "language": "python",
   "name": "python3"
  },
  "language_info": {
   "codemirror_mode": {
    "name": "ipython",
    "version": 3
   },
   "file_extension": ".py",
   "mimetype": "text/x-python",
   "name": "python",
   "nbconvert_exporter": "python",
   "pygments_lexer": "ipython3",
   "version": "3.4.3"
  },
  "toc": {
   "base_numbering": 1,
   "nav_menu": {},
   "number_sections": true,
   "sideBar": true,
   "skip_h1_title": false,
   "title_cell": "Table of Contents",
   "title_sidebar": "Contents",
   "toc_cell": false,
   "toc_position": {},
   "toc_section_display": true,
   "toc_window_display": false
  }
 },
 "nbformat": 4,
 "nbformat_minor": 2
}
